{
  "cells": [
    {
      "cell_type": "markdown",
      "metadata": {
        "id": "view-in-github",
        "colab_type": "text"
      },
      "source": [
        "<a href=\"https://colab.research.google.com/github/georgedouzas/avatar-poc/blob/main/environment.ipynb\" target=\"_parent\"><img src=\"https://colab.research.google.com/assets/colab-badge.svg\" alt=\"Open In Colab\"/></a>"
      ]
    },
    {
      "cell_type": "markdown",
      "source": [
        "# Setup & Installation"
      ],
      "metadata": {
        "id": "EHfaFppboEJ7"
      }
    },
    {
      "cell_type": "code",
      "source": [
        "# Setup environment\n",
        "!sudo apt-get update\n",
        "!apt install software-properties-common\n",
        "!sudo apt-get install python3.8 python3.8-distutils\n",
        "!curl -sS https://bootstrap.pypa.io/pip/3.8/get-pip.py -o get-pip.py\n",
        "!sudo python3.8 get-pip.py\n",
        "!python3.8 -m pip install -U setuptools wheel\n",
        "!sudo apt-get install python3.9 python3.9-distutils\n",
        "!curl -sS https://bootstrap.pypa.io/get-pip.py -o get-pip.py\n",
        "!sudo python3.9 get-pip.py\n",
        "!python3.9 -m pip install -U setuptools wheel\n",
        "\n",
        "# Install SadTalker\n",
        "!git clone https://github.com/cedro3/SadTalker.git &> /dev/null\n",
        "%cd SadTalker\n",
        "!export PYTHONPATH=/content/SadTalker:$PYTHONPATH\n",
        "!python3.8 -m pip install torch==1.12.1+cu113 torchvision==0.13.1+cu113 torchaudio==0.12.1 --extra-index-url https://download.pytorch.org/whl/cu113\n",
        "!apt update\n",
        "!apt install ffmpeg &> /dev/null\n",
        "!python3.8 -m pip install -r requirements.txt\n",
        "!rm -rf checkpoints\n",
        "!bash scripts/download_models.sh\n",
        "\n",
        "# Install piper\n",
        "!python3.9 -m pip install piper-tts\n",
        "!python3.9 -m piper.download_voices en_US-lessac-medium\n",
        "!python3.9 -m piper.download_voices el_GR-rapunzelina-low"
      ],
      "metadata": {
        "id": "AneDdey8SPaX"
      },
      "execution_count": null,
      "outputs": []
    },
    {
      "cell_type": "markdown",
      "source": [
        "# Gradio App"
      ],
      "metadata": {
        "id": "_TNYhqWfppOS"
      }
    },
    {
      "cell_type": "code",
      "source": [
        "languages_mapping = {\n",
        "    'English': 'en_US-lessac-medium',\n",
        "    'Greek': 'el_GR-rapunzelina-low'\n",
        "}\n",
        "language = languages_mapping['English']\n",
        "text = 'My name is Quento. I am a great company'\n",
        "driven_audio = 'examples/driven_audio/' + 'test.wav'\n",
        "source_image = 'examples/source_image/' + 'full3.png'\n",
        "\n",
        "!python3.9 -m piper -m $language -f examples/driven_audio/test.wav -- $text\n",
        "!python3.8 inference.py --driven_audio $driven_audio --source_image $source_image --result_dir ./results"
      ],
      "metadata": {
        "id": "8PXViz3LUiYy"
      },
      "execution_count": null,
      "outputs": []
    },
    {
      "cell_type": "code",
      "source": [
        "import subprocess\n",
        "import wave\n",
        "import gradio as gr\n",
        "\n",
        "def text_to_speech(text):\n",
        "    output_path = 'examples/driven_audio/output.wav'\n",
        "    subprocess.run(['python3.9', '-m', 'piper', '-m', 'en_US-lessac-medium', '-f', output_path, '--', text], stdout=subprocess.PIPE)\n",
        "    return output_path\n",
        "\n",
        "with gr.Blocks() as app:\n",
        "    gr.Markdown(\"# Text to Speech\")\n",
        "    with gr.Row():\n",
        "        with gr.Column():\n",
        "            text_input = gr.Textbox(lines=5, placeholder=\"Enter text here...\", label=\"Text\")\n",
        "            submit_btn = gr.Button(\"Generate Speech\", variant=\"primary\")\n",
        "        with gr.Column():\n",
        "            audio_output = gr.Audio(label=\"Generated Audio\", type=\"filepath\")\n",
        "\n",
        "    submit_btn.click(text_to_speech, inputs=text_input, outputs=audio_output)"
      ],
      "metadata": {
        "id": "LMaewM9rpyzC"
      },
      "execution_count": null,
      "outputs": []
    }
  ],
  "metadata": {
    "accelerator": "GPU",
    "colab": {
      "provenance": [],
      "include_colab_link": true
    },
    "gpuClass": "standard",
    "kernelspec": {
      "display_name": "base",
      "language": "python",
      "name": "python3"
    },
    "language_info": {
      "name": "python",
      "version": "3.9.7"
    },
    "vscode": {
      "interpreter": {
        "hash": "db5031b3636a3f037ea48eb287fd3d023feb9033aefc2a9652a92e470fb0851b"
      }
    }
  },
  "nbformat": 4,
  "nbformat_minor": 0
}