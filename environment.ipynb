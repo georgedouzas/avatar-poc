{
  "cells": [
    {
      "cell_type": "markdown",
      "metadata": {
        "colab_type": "text",
        "id": "view-in-github"
      },
      "source": [
        "<a href=\"https://colab.research.google.com/github/georgedouzas/avatar-poc/blob/main/environment.ipynb\" target=\"_parent\"><img src=\"https://colab.research.google.com/assets/colab-badge.svg\" alt=\"Open In Colab\"/></a>"
      ]
    },
    {
      "cell_type": "markdown",
      "metadata": {
        "id": "EHfaFppboEJ7"
      },
      "source": [
        "# Setup & Installation"
      ]
    },
    {
      "cell_type": "code",
      "execution_count": null,
      "metadata": {
        "colab": {
          "base_uri": "https://localhost:8080/"
        },
        "id": "AneDdey8SPaX",
        "outputId": "6eb95fe2-3efb-4fc3-92cc-f6c5db882fbd"
      },
      "outputs": [],
      "source": [
        "# Setup environment\n",
        "!sudo apt-get update\n",
        "!apt install software-properties-common\n",
        "!sudo apt-get install python3.8 python3.8-distutils\n",
        "!curl -sS https://bootstrap.pypa.io/pip/3.8/get-pip.py -o get-pip.py\n",
        "!sudo python3.8 get-pip.py\n",
        "!python3.8 -m pip install -U setuptools wheel\n",
        "!sudo apt-get install python3.9 python3.9-distutils\n",
        "!curl -sS https://bootstrap.pypa.io/get-pip.py -o get-pip.py\n",
        "!sudo python3.9 get-pip.py\n",
        "!python3.9 -m pip install -U setuptools wheel\n",
        "\n",
        "# Install SadTalker\n",
        "!git clone https://github.com/cedro3/SadTalker.git &> /dev/null\n",
        "%cd SadTalker\n",
        "!export PYTHONPATH=/content/SadTalker:$PYTHONPATH\n",
        "!python3.8 -m pip install torch==1.12.1+cu113 torchvision==0.13.1+cu113 torchaudio==0.12.1 --extra-index-url https://download.pytorch.org/whl/cu113\n",
        "!apt update\n",
        "!apt install ffmpeg &> /dev/null\n",
        "!python3.8 -m pip install -r requirements.txt\n",
        "!rm -rf checkpoints\n",
        "!bash scripts/download_models.sh\n",
        "\n",
        "# Install piper\n",
        "!python3.9 -m pip install piper-tts\n",
        "!python3.9 -m piper.download_voices en_US-lessac-medium\n",
        "!python3.9 -m piper.download_voices el_GR-rapunzelina-low\n",
        "\n",
        "# Download application\n",
        "!wget https://raw.githubusercontent.com/georgedouzas/avatar-poc/main/app.py -O gradio_app.py"
      ]
    },
    {
      "cell_type": "markdown",
      "metadata": {
        "id": "_TNYhqWfppOS"
      },
      "source": [
        "# Gradio App"
      ]
    },
    {
      "cell_type": "code",
      "execution_count": null,
      "metadata": {
        "colab": {
          "base_uri": "https://localhost:8080/",
          "height": 999
        },
        "id": "LMaewM9rpyzC",
        "outputId": "bb99ccdd-6faf-4c01-a121-27ad606c2c8e"
      },
      "outputs": [],
      "source": [
        "import gradio_app\n",
        "\n",
        "gradio_app.launch()"
      ]
    }
  ],
  "metadata": {
    "colab": {
      "include_colab_link": true,
      "provenance": []
    },
    "kernelspec": {
      "display_name": "Python 3",
      "name": "python3"
    },
    "language_info": {
      "name": "python",
      "version": "3.9.7"
    },
    "vscode": {
      "interpreter": {
        "hash": "db5031b3636a3f037ea48eb287fd3d023feb9033aefc2a9652a92e470fb0851b"
      }
    }
  },
  "nbformat": 4,
  "nbformat_minor": 0
}
